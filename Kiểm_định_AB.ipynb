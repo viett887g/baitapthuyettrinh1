{
  "nbformat": 4,
  "nbformat_minor": 0,
  "metadata": {
    "colab": {
      "name": "Kiểm định AB.ipynb",
      "provenance": [],
      "include_colab_link": true
    },
    "kernelspec": {
      "name": "python3",
      "display_name": "Python 3"
    },
    "language_info": {
      "name": "python"
    }
  },
  "cells": [
    {
      "cell_type": "markdown",
      "metadata": {
        "id": "view-in-github",
        "colab_type": "text"
      },
      "source": [
        "<a href=\"https://colab.research.google.com/github/viett887g/baitapthuyettrinh1/blob/main/Ki%E1%BB%83m_%C4%91%E1%BB%8Bnh_AB.ipynb\" target=\"_parent\"><img src=\"https://colab.research.google.com/assets/colab-badge.svg\" alt=\"Open In Colab\"/></a>"
      ]
    },
    {
      "cell_type": "markdown",
      "source": [
        "**BÀI TẬP TỰ HỌC VỀ KIỂM ĐỊNH A/B**\n",
        "\n",
        "Sinh viên sử dụng tài liệu tham khảo \"Practical Statistics...\", Chương 3 để hoàn thành các yêu cầu sau."
      ],
      "metadata": {
        "id": "fw49i_jmb7ZK"
      }
    },
    {
      "cell_type": "markdown",
      "source": [
        "**Câu 1**: Trả lời các câu hỏi lý thuyết sau:\n",
        "\n",
        "\n",
        "1.   Kiểm định A/B là gì?\n",
        "2.   Thuật ngữ treatment trong ngữ cảnh của thống kê có thể dịch sang tiếng Việt không? nếu có thì là gì?\n",
        "3.   Nêu định nghĩa về treatment\n",
        "4.   Control group là gì? vai trò trong thí nghiệm của kiểm định A/B?\n",
        "5.   Treament group là gì? vai trò trong thí nghiệm của kiểm định A/B?\n",
        "6.   Hãy liệt kê một số kiểm định A/B trong thực tế?\n",
        "\n"
      ],
      "metadata": {
        "id": "EBsgDMSRcVy9"
      }
    },
    {
      "cell_type": "markdown",
      "source": [
        "1 Thử nghiệm A / B là một thử nghiệm với hai nhóm để thiết lập nhóm nào trong hai phương pháp điều trị, sản phẩm, quy trình, hoặc những thứ tương tự là ưu việt hơn. Thường thì một trong hai phương pháp điều trị là điều trị tiêu chuẩn hiện có, hoặc không điều trị. Nếu sử dụng phương pháp điều trị tiêu chuẩn (hoặc không), nó được gọi là điều khiển. Một giả thuyết điển hình là một phương pháp điều trị mới tốt hơn điều khiển.\n",
        "2 có nó là Phương PhápPháp\n",
        "3  Một cái gì đó (thuốc, giá cả, tiêu đề web) mà đối tượng được tiếp xúc\n",
        "4 **Control group là** Một nhóm đối tượng tiếp xúc với không (hoặc tiêu chuẩn) điều trị.\n",
        "**vai trò trong thí nghiệm của kiểm định A/B** : những nhóm sẽ nhận được các liệu pháp khác nhau trong quá trình thực hiện. Mỗi thành viên chỉ thuộc một Cell nằm trong một thử nghiệm đã được xác định đi kèm một trong những Cell khác được thiết kế dưới dạng \"Cell mặc định\". Cell này đại diện cho Control Group - nhóm nhận được cùng một trải nghiệm như tất cả các thành viên Netflix khác không tham gia bài test (dẫn theo chia sẻ trên Netflix Blog).\n",
        "5 Ta có treatment group là Một nhóm đối tượng tiếp xúc với một phương pháp điều trị cụ thể. \n",
        "vai trò so sánh nhóm được điều trị (treatment group) với nhóm được kiểm soát (control group).Ngẫu nhiên (randomize): có nghĩa là phân phối ngẫu nhiên (randomly assigning) các đối tượng vào nhóm điều trị.Nhân rộng (replicate): có nghĩa là thu thập dữ liệu đủ lớn hay nhân rộng dữ liệu để điều tra.Gom nhóm (block): nếu tồn tại các thuộc tính được biết hay được cho là có ảnh hưởng đến các thuộc tính đang điều tra (response variable), đầu tiên ta sẽ gom nhóm các đối tượng này thành từng block dựa theo những thuộc tính này, sau đó ta sẽ phân phối ngẫu nhiên các đối tượng trong từng block vào nhóm đang điều trị.\n",
        "6 Hãy liệt kê một số kiểm định A/B trong thực tế\n",
        "- Thử nghiệm hai phương pháp xử lý đất để xác định xem hạt nào nảy mầm tốt hơn\n",
        "-Thử nghiệm hai liệu pháp để xác định phương pháp nào ngăn chặn ung thư hiệu quả hơn\n",
        "-Kiểm tra hai mức giá để xác định giá nào mang lại nhiều lợi nhuận ròng hơn\n",
        "-Kiểm tra hai tiêu đề web để xác định tiêu đề nào tạo ra nhiều nhấp chuột hơn\n",
        "-Thử nghiệm hai quảng cáo web để xác định quảng cáo nào tạo ra nhiều chuyển đổi hơn\n"
      ],
      "metadata": {
        "id": "sZhAgs-5x7J9"
      }
    },
    {
      "cell_type": "code",
      "source": [
        ""
      ],
      "metadata": {
        "id": "GPAekjwrx1p8"
      },
      "execution_count": null,
      "outputs": []
    },
    {
      "cell_type": "markdown",
      "source": [
        "**Câu 2**: Tại sao không có kiểm định A/B/C/D?\n",
        "Thử nghiệm A / B phổ biến trong thế giới tiếp thị và thương mại điện tử, nhưng còn xa chỉ loại thử nghiệm thống kê. Các phương pháp điều trị bổ sung có thể được bao gồm. Đối tượng có thể đã thực hiện các phép đo lặp lại. Thử nghiệm dược phẩm nơi các đối tượng khan hiếm, đắt tiền và có được theo thời gian đôi khi được thiết kế với nhiều cơ hội để dừng thử nghiệm và đi đến kết luận.\n",
        "\n",
        "\n",
        "Trả lời tại đây:"
      ],
      "metadata": {
        "id": "Ghp_lniLedz8"
      }
    },
    {
      "cell_type": "markdown",
      "source": [
        "**Câu 3**: Lý thuyết về kiểm định giả thuyết. Trả lời các câu hỏi sau:\n",
        "\n",
        "\n",
        "1.   Nêu định nghĩa về kiểm định giả thuyết\n",
        "2.   Giả thuyết null là gì? cho ví dụ\n",
        "3.   Giả thuyết thay thế là gì? cho ví dụ\n",
        "4.   Kiểm định 1 chiều (hay 1 đuôi) là gì? cho ví dụ\n",
        "5.   Kiểm định 2 chiều (hay 2 đuôi) là gì?cho ví dụ\n",
        "6.   Nêu điểm khác biệt giữa kiểm định 1 chiều so với kiểm định 2 chiều?\n",
        "\n"
      ],
      "metadata": {
        "id": "4bRj6dX8fQKu"
      }
    },
    {
      "cell_type": "markdown",
      "source": [
        "1. Kiểm định giả thuyết, còn được gọi là kiểm định ý nghĩa, phổ biến trong thống kê truyền thống‐ phân tích cal của nghiên cứu đã được công bố. Mục đích của họ là giúp bạn tìm hiểu xem liệu ngẫu nhiên cơ hội có thể chịu trách nhiệm cho một hiệu ứng quan sát được.\n",
        "2. Giả thuyết rằng cơ hội là để đổ lỗi.\n",
        "vd : thời gian trung bình để nấu một nhãn hiệu mì tôm cụ thể là 12 phút\n",
        "3. Phản đối giá trị rỗng (những gì bạn hy vọng sẽ chứng minh).\n",
        "vd : ví dụ trên về nhiệt độ cơ thể trung bình của con người, giả thuyết thay thế là \"Nhiệt độ cơ thể người trưởng thành trung bình không phải là 98,6 độ F.\"\n",
        "4. Kiểm tra giả thuyết chỉ tính kết quả may rủi theo một hướng\n",
        "5. Kiểm tra giả thuyết tính kết quả may rủi theo hai hướng\n",
        "6. hông thường trong thử nghiệm A / B, bạn đang thử nghiệm một tùy chọn mới (giả sử, B) so với một tùy chọn mặc định (A) và giả định là bạn sẽ gắn bó với tùy chọn mặc định trừ khi tùy chọn mới chứng tỏ bản thân nó tốt hơn một cách rõ ràng. Trong trường hợp như vậy, bạn muốn một kiểm tra giả thuyết để bảo vệ bạn khỏi bị lừa một cách tình cờ theo hướng có lợi B. Bạn không quan tâm đến việc tình cờ bị lừa theo hướng khác, bởi vì bạn sẽ gắn bó với A trừ khi B chứng tỏ chắc chắn tốt hơn. Vì vậy, bạn muốn một hướng giả thuyết thay thế (B tốt hơn A). Trong trường hợp như vậy, bạn sử dụng một chiều (hoặc một- đuôi) kiểm tra giả thuyết. Điều này có nghĩa là cơ hội cực đoan chỉ dẫn đến một hướng đếm vào giá trị p.\n",
        "Nếu bạn muốn một bài kiểm tra giả thuyết để bảo vệ bạn khỏi tình cờ bị lừa trong một trong hai hướng, giả thuyết thay thế là hai chiều (A khác với B; có thể là lớn hơn hoặc nhỏ hơn). Trong trường hợp như vậy, bạn sử dụng giả thuyết hai chiều (hoặc hai đuôi). Cái này có nghĩa là cơ hội cực đoan dẫn đến một trong hai hướng được tính vào giá trị p.\n",
        "Thử nghiệm giả thuyết một đầu thường phù hợp với bản chất của việc ra quyết định A / B, trong đó quyết định là bắt buộc và một tùy chọn thường được gán trạng thái \"mặc định\" trừ khi khác chứng minh tốt hơn. Tuy nhiên, phần mềm, bao gồm R và scipy trong Python, thường cung cấp kiểm tra hai đuôi trong đầu ra mặc định của nó và nhiều nhà thống kê lựa chọn kiểm tra hai đuôi bảo thủ chỉ để tránh tranh luận. Một đuôi so với hai đuôi là một sự nhầm lẫn‐ thuộc chủ đề và không liên quan đến khoa học dữ liệu, nơi độ chính xác của giá trị p cal‐ cực điểm không quá quan trọng"
      ],
      "metadata": {
        "id": "xZHLM-16guTL"
      }
    },
    {
      "cell_type": "markdown",
      "source": [
        "**Câu 4**: Lý thuyết về lấy mẫu (sampling). \n",
        "\n",
        "\n",
        "1.   Sampling là gì? cho ví dụ\n",
        "2.   Resampling là gì? cho ví dụ?\n",
        "3.   Hãy mô tả kỹ thuật permutation (hoặc quy trình của permutation test)? Xây dựng đoạn code lập trình permutation test\n",
        "\n",
        "\n"
      ],
      "metadata": {
        "id": "jpcORdODhElp"
      }
    },
    {
      "cell_type": "markdown",
      "source": [
        "1.Sampling là quá trình chọn ra một tập con của một quần thể với mục tiêu đánh giá các tính chất của quần thể đó. Cách thức lấy mẫu phụ thuộc trực tiếp vào mục tiêu đánh giá của chúng ta, do đó sampling nằm gần ranh giới giữa việc quan sát khách quan và việc thực hiện các thực nghiệm mang tính chủ quan\n",
        "vd : \n",
        "-Vấn đề tiếp cận dữ liệu\n",
        "-Chi phí thu thập dữ liệu\n",
        "-Khó khăn trong tập hợp dữ liệu\n",
        "-Các dữ liệu chưa tồn tại (tương lai)\n",
        "2.Lấy mẫu lại trong thống kê có nghĩa là lấy mẫu lặp lại các giá trị từ dữ liệu được quan sát, với mục tiêu chung của việc đánh giá sự biến thiên ngẫu nhiên trong một thống kê. Nó cũng có thể được sử dụng để đánh giá và cải thiện độ chính xác của một số mô hình học máy (ví dụ: các dự đoán từ các mô hình cây quyết định được xây dựng trên nhiều tập dữ liệu khởi động có thể được tính trung bình trong một quá trình được gọi là đóng bao — xem\n",
        "vd : lấy mẫu đẽ thực hiện tổng hợp\n",
        "3. Trong quy trình hoán vị, có hai hoặc nhiều mẫu được tham gia, thường là các nhóm trong một thử nghiệm A / B hoặc giả thuyết khác. Permute có nghĩa là thay đổi thứ tự của một tập hợp các val‐ ues. Bước đầu tiên trong kiểm tra hoán vị của một giả thuyết là kết hợp các kết quả từ nhóm A và B (và, nếu được sử dụng, C, D, ...). Đây là hiện thân hợp lý của giá trị rỗng giả thuyết rằng các phương pháp điều trị mà các nhóm đã tiếp xúc không khác nhau. chúng tôi sau đó kiểm tra giả thuyết đó bằng cách rút ngẫu nhiên các nhóm từ tập hợp kết hợp này và xem chúng khác nhau như thế nào. Thủ tục hoán vị là sau:\n",
        "1. Kết hợp các kết quả từ các nhóm khác nhau thành một tập dữ liệu duy nhất.\n",
        "2. Xáo trộn dữ liệu kết hợp và sau đó rút ngẫu nhiên (không thay thế) a\n",
        "lấy lại mẫu có cùng kích thước với nhóm A (rõ ràng nó sẽ chứa một số dữ liệu từ\n",
        "nhóm khác).\n",
        "3. Từ dữ liệu còn lại, rút ​​ngẫu nhiên (không thay thế) một ví dụ về\n",
        "cùng kích thước với nhóm B.\n",
        "4. Làm tương tự cho các nhóm C, D, v.v. Bây giờ bạn đã thu thập một tập hợp\n",
        "ví dụ phản ánh kích thước của các mẫu ban đầu.\n",
        "5. Bất kỳ thống kê hoặc ước tính nào đã được tính toán cho các mẫu ban đầu (ví dụ: khác nhau‐\n",
        "do đó theo tỷ lệ nhóm), hãy tính toán nó ngay bây giờ cho các ví dụ và ghi lại; cái này\n",
        "tạo thành một phép lặp hoán vị.\n",
        "6. Lặp lại các bước trước đó R lần để thu được phân phối hoán vị của phép thử\n",
        "thống kê."
      ],
      "metadata": {
        "id": "HyDM-nFEiLW9"
      }
    }
  ]
}